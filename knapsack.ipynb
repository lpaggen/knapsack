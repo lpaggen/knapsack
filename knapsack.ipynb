{
 "cells": [
  {
   "cell_type": "markdown",
   "metadata": {},
   "source": [
    "We have used a few resources to help us make this algorithm,\n",
    "\n",
    "https://arpitbhayani.me/blogs/genetic-knapsack/\n",
    "\n",
    "https://medium.com/koderunners/genetic-algorithm-part-3-knapsack-problem-b59035ddd1d6\n",
    "\n",
    "https://stackoverflow.com/questions/10324015/fitness-proportionate-selection-roulette-wheel-selection-in-python\n",
    "\n",
    "You will find that none of the code has been copied from anywhere, these resources were used to help us only."
   ]
  },
  {
   "cell_type": "code",
   "execution_count": 78,
   "metadata": {},
   "outputs": [],
   "source": [
    "from random import choice, randrange, random\n",
    "import numpy as np"
   ]
  },
  {
   "cell_type": "code",
   "execution_count": 80,
   "metadata": {},
   "outputs": [],
   "source": [
    "n = 4 # number of items\n",
    "max_val = 4 # modular param for item val\n",
    "max_wgt = 6 # param for item weight\n",
    "wgt_limit = 20 # set limit for the sack (weight limit)\n",
    "solutions = 5000"
   ]
  },
  {
   "cell_type": "code",
   "execution_count": 90,
   "metadata": {},
   "outputs": [],
   "source": [
    "items = {} # dict of items, each has weight and value (dict of lists)\n",
    "\n",
    "val = [i for i in range(max_wgt + 1)]\n",
    "wgt = [i for i in range(max_val + 1)]\n",
    "\n",
    "def construct_pop(n, max_val, max_wgt):\n",
    "    m = [i for i in range(max_val)] # list of possible values\n",
    "    p = [i for i in range(max_wgt)] # list of possible weights\n",
    "\n",
    "    item_val = [randrange(1, len(m) + 1) for i in range(n)] # random list of val for n items\n",
    "    item_wgt = [randrange(1, len(p) + 1) for i in range(n)] # random list of weights ..\n",
    "\n",
    "    item_vw = [(val, wgt) for val, wgt in zip(item_val, item_wgt)] # make tuple (x, y) of val and weight\n",
    "\n",
    "    for idx, i in enumerate(item_vw): # get index and populate dict 'items'\n",
    "        items[idx] = i # item i = (val, wgt)\n",
    "\n",
    "    print(\"List of items (item number : (value, weight))\")\n",
    "    print(f\"Number of items: {n}\")\n",
    "    print(f\"Maximum weight: {max_wgt}\")\n",
    "    print(f\"Maximum value: {max_val}\")\n",
    "    print(items) # check if everything went as intended (spoilers it did)\n",
    "\n",
    "    return(items)"
   ]
  },
  {
   "cell_type": "code",
   "execution_count": 91,
   "metadata": {},
   "outputs": [
    {
     "name": "stdout",
     "output_type": "stream",
     "text": [
      "List of items (item number : (value, weight))\n",
      "Number of items: 4\n",
      "Maximum weight: 6\n",
      "Maximum value: 4\n",
      "{0: (4, 3), 1: (4, 4), 2: (3, 5), 3: (3, 5)}\n"
     ]
    }
   ],
   "source": [
    "\n",
    "pop_0 = construct_pop(n, max_val = max_val, max_wgt = max_wgt)"
   ]
  },
  {
   "cell_type": "code",
   "execution_count": 92,
   "metadata": {},
   "outputs": [
    {
     "ename": "TypeError",
     "evalue": "only integer scalar arrays can be converted to a scalar index",
     "output_type": "error",
     "traceback": [
      "\u001b[0;31m---------------------------------------------------------------------------\u001b[0m",
      "\u001b[0;31mTypeError\u001b[0m                                 Traceback (most recent call last)",
      "Cell \u001b[0;32mIn[92], line 10\u001b[0m\n\u001b[1;32m      6\u001b[0m     bit_string_arr \u001b[38;5;241m=\u001b[39m np\u001b[38;5;241m.\u001b[39marray(bit_string_arr)\n\u001b[1;32m      8\u001b[0m     \u001b[38;5;28;01mreturn\u001b[39;00m bit_string_arr\n\u001b[0;32m---> 10\u001b[0m solutions \u001b[38;5;241m=\u001b[39m \u001b[43mbit_strings\u001b[49m\u001b[43m(\u001b[49m\u001b[43msolutions\u001b[49m\u001b[43m,\u001b[49m\u001b[43m \u001b[49m\u001b[43mn\u001b[49m\u001b[43m)\u001b[49m\n",
      "Cell \u001b[0;32mIn[92], line 3\u001b[0m, in \u001b[0;36mbit_strings\u001b[0;34m(sol, pop_size)\u001b[0m\n\u001b[1;32m      1\u001b[0m \u001b[38;5;28;01mdef\u001b[39;00m \u001b[38;5;21mbit_strings\u001b[39m(sol, pop_size):\n\u001b[1;32m      2\u001b[0m     bit_string_arr \u001b[38;5;241m=\u001b[39m []\n\u001b[0;32m----> 3\u001b[0m     \u001b[38;5;28;01mfor\u001b[39;00m i \u001b[38;5;129;01min\u001b[39;00m \u001b[38;5;28;43mrange\u001b[39;49m\u001b[43m(\u001b[49m\u001b[43msol\u001b[49m\u001b[43m)\u001b[49m:\n\u001b[1;32m      4\u001b[0m         bit_string \u001b[38;5;241m=\u001b[39m [randrange(\u001b[38;5;241m0\u001b[39m, \u001b[38;5;241m2\u001b[39m) \u001b[38;5;28;01mfor\u001b[39;00m i \u001b[38;5;129;01min\u001b[39;00m \u001b[38;5;28mrange\u001b[39m(pop_size)] \u001b[38;5;66;03m# 0 or 1, randomly, length is number of items\u001b[39;00m\n\u001b[1;32m      5\u001b[0m         bit_string_arr\u001b[38;5;241m.\u001b[39mappend(bit_string)\n",
      "\u001b[0;31mTypeError\u001b[0m: only integer scalar arrays can be converted to a scalar index"
     ]
    }
   ],
   "source": [
    "def bit_strings(sol, pop_size):\n",
    "    bit_string_arr = []\n",
    "    for i in range(sol):\n",
    "        bit_string = [randrange(0, 2) for i in range(pop_size)] # 0 or 1, randomly, length is number of items\n",
    "        bit_string_arr.append(bit_string)\n",
    "    bit_string_arr = np.array(bit_string_arr)\n",
    "\n",
    "    return bit_string_arr\n",
    "\n",
    "solutions = bit_strings(solutions, n)"
   ]
  },
  {
   "cell_type": "code",
   "execution_count": 84,
   "metadata": {},
   "outputs": [],
   "source": [
    "def assign_weights(bit_strings, items, weight_limit):\n",
    "    solution_score = [] # need a list for the next step. sad.\n",
    "\n",
    "    for bit_string in bit_strings:\n",
    "        total_value = 0\n",
    "        total_weight = 0\n",
    "\n",
    "        for idx, bit in enumerate(bit_string):\n",
    "            if bit == 1:  # Item is selected\n",
    "                total_value += items[idx][0]  # Add value of the item\n",
    "                total_weight += items[idx][1]  # Add weight of the item\n",
    "\n",
    "        # If total weight exceeds the limit, penalize the fitness\n",
    "        if total_weight > weight_limit:\n",
    "            penalty = (total_weight - weight_limit)\n",
    "            total_value -= penalty  # set score to 0 if we exceed weight limit (eliminate those solutions)\n",
    "\n",
    "        solution_score.append(total_value)\n",
    "\n",
    "    return solution_score\n",
    "\n",
    "sol_score = assign_weights(solutions, pop_0, wgt_limit)"
   ]
  },
  {
   "cell_type": "code",
   "execution_count": 85,
   "metadata": {},
   "outputs": [
    {
     "name": "stdout",
     "output_type": "stream",
     "text": [
      "11\n"
     ]
    }
   ],
   "source": [
    "# https://stackoverflow.com/questions/10324015/fitness-proportionate-selection-roulette-wheel-selection-in-python\n",
    "# the above link is what helped us implement the roulette wheel. how it works is simple, we generate some number between 0 and 1,\n",
    "# then we iterate over all probabilities, add them until their sum exceeds the random number. This is the selected number.\n",
    "# the fact we have also set bad solutions (weight exceeded) to 0 means they will NEVER be selected here, which is good\n",
    "\n",
    "def roulette_prob_wheel(pop, solution_scores):\n",
    "    total_score = np.sum(solution_scores) # sum of all the scores (used for probability wheel :) )\n",
    "    probabilities = solution_scores / total_score # divides each score by the total, gets probability (proportion)\n",
    "\n",
    "    survival = []\n",
    "    for i in range(len(pop)):\n",
    "        rand = random()\n",
    "        prob_sum = 0 # we set this equal to 0, add until we exceed \"rand\"\n",
    "    \n",
    "        for idx, prob in enumerate(probabilities):\n",
    "            prob_sum += prob # add prob to sum until exceed\n",
    "            if prob_sum > rand:\n",
    "                survival.append(pop[idx]) # appends good item to survivor list\n",
    "                break\n",
    "\n",
    "    return survival # returns 500, == original solution size, on the right track\n",
    "\n",
    "survivors = roulette_prob_wheel(solutions, sol_score)\n",
    "\n",
    "a = assign_weights(survivors, pop_0, wgt_limit)\n",
    "print(max(a))"
   ]
  },
  {
   "cell_type": "code",
   "execution_count": 86,
   "metadata": {},
   "outputs": [
    {
     "name": "stdout",
     "output_type": "stream",
     "text": [
      "11\n"
     ]
    }
   ],
   "source": [
    "def crossover(sol_size, pop, cross_rate): # we will set a rate for crossovers, this way they do not happen every time.\n",
    "    crossover_results = []\n",
    "    parents = [(pop[i], pop[i + 1]) for i in range(0, len(pop), 2)] # gets parent pairs, done \"2 by 2\" -> 250 len\n",
    "    cross_point = randrange(1, sol_size) # for each bit string, different crossover index (never 0 or 20)\n",
    "    for idx, parent in enumerate(parents):\n",
    "        rand = random() # between 0 and 1n\n",
    "        child_1 = parents[idx][0]\n",
    "        child_2 = parents[idx][1]\n",
    "        if rand < cross_rate: # crossover only happens if below defined rate (args)\n",
    "            child_1 = np.hstack((parent[0][:cross_point], parent[1][cross_point:])) # np.hstack just concats 2 vectors of 1 row\n",
    "            child_2 = np.hstack((parent[1][:cross_point], parent[0][cross_point:]))\n",
    "            crossover_results.append(child_1)\n",
    "            crossover_results.append(child_2)\n",
    "        else:\n",
    "            crossover_results.append(child_1)\n",
    "            crossover_results.append(child_2)\n",
    "\n",
    "    # crossover_results = np.concatenate(crossover_results)\n",
    "    return crossover_results\n",
    "\n",
    "cross_results = crossover(20, survivors, 0.5)\n",
    "\n",
    "a = assign_weights(cross_results, pop_0, wgt_limit)\n",
    "print(max(a))"
   ]
  },
  {
   "cell_type": "code",
   "execution_count": 87,
   "metadata": {},
   "outputs": [
    {
     "name": "stdout",
     "output_type": "stream",
     "text": [
      "11\n"
     ]
    }
   ],
   "source": [
    "def mutate(sol_size, pop, mutate_rate):\n",
    "    mutated_results = []\n",
    "    for bit_string in pop:\n",
    "        for idxx, bit in enumerate(bit_string):\n",
    "            rand = random()\n",
    "            if rand < mutate_rate:\n",
    "                bit_string[idxx] = abs(bit_string[idxx] - 1) # should shift 0 to 1 and vice versa\n",
    "        mutated_results.append(bit_string)\n",
    "\n",
    "    return mutated_results\n",
    "\n",
    "mutated_results = mutate(20, cross_results, 0.1)\n",
    "\n",
    "a = assign_weights(mutated_results, pop_0, wgt_limit)\n",
    "print(max(a))"
   ]
  },
  {
   "cell_type": "code",
   "execution_count": 88,
   "metadata": {},
   "outputs": [
    {
     "name": "stdout",
     "output_type": "stream",
     "text": [
      "best solution: [1 1 1 1]\n",
      "score of optim solution: 11\n"
     ]
    }
   ],
   "source": [
    "def genetic_algorithm(iterations, pop_size, cross_rate, mutate_rate):\n",
    "    best_solution = None # we need to find an optimal solution\n",
    "    best_fitness = 0 # we will report the value of the best fit at the end of this loop\n",
    "    solutions = bit_strings(pop_size, n) # construct some initial population\n",
    "\n",
    "    for iteration in range(iterations):\n",
    "        solution_scores = assign_weights(solutions, items, wgt_limit) # need to evaluate scores of current solutions\n",
    "        survivors = roulette_prob_wheel(solutions, solution_scores) # use roulette wheel algo to select survivors\n",
    "        crossover_results = crossover(n, survivors, cross_rate) # use crossover algo to fine tune the solutions\n",
    "        mutated_results = mutate(n, crossover_results, mutate_rate) # use mutation algo to fine tune even more\n",
    "\n",
    "        mutated_scores = assign_weights(mutated_results, items, wgt_limit) # get the score of the fine-tuned solutions\n",
    "\n",
    "        max_fitness = max(mutated_scores) # max score of all fine-tuned solutions\n",
    "        if max_fitness > best_fitness: # if there is a new best solution\n",
    "            best_fitness = max_fitness\n",
    "            best_solution = mutated_results[np.argmax(mutated_scores)] # find with index of best solution (np.argmax = index of max)\n",
    "\n",
    "        solutions = mutated_results # the next generation will use our fine-tuned solution!\n",
    "\n",
    "        # print(f\"iter {iteration + 1}, score of current best solution: {best_fitness}\") # DEBUG, should add option to be verbose or not\n",
    "\n",
    "    return best_solution, best_fitness\n",
    "\n",
    "# set params\n",
    "iterations = 10000\n",
    "pop_size = 100\n",
    "cross_rate = 0.4\n",
    "mutate_rate = 0.1\n",
    "\n",
    "# run algo\n",
    "best_solution, best_fitness = genetic_algorithm(iterations, pop_size, cross_rate, mutate_rate)\n",
    "\n",
    "# debug info, display score of solution\n",
    "print(f\"best solution: {best_solution}\")\n",
    "print(f\"score of optim solution: {best_fitness}\")"
   ]
  },
  {
   "cell_type": "code",
   "execution_count": 106,
   "metadata": {},
   "outputs": [
    {
     "name": "stdout",
     "output_type": "stream",
     "text": [
      "100\n"
     ]
    },
    {
     "data": {
      "text/plain": [
       "[array([1, 1, 0, 1, 0, 1, 1, 1, 0, 1, 1, 0, 0, 0, 1, 1, 0, 0, 0, 1]),\n",
       " array([1, 0, 0, 0, 1, 1, 1, 0, 1, 1, 1, 0, 0, 0, 1, 1, 1, 1, 1, 1]),\n",
       " array([1, 1, 1, 1, 1, 1, 0, 0, 0, 1, 0, 0, 1, 0, 1, 1, 0, 1, 1, 1]),\n",
       " array([0, 1, 0, 0, 1, 1, 1, 1, 0, 1, 1, 0, 0, 0, 1, 1, 1, 0, 1, 1]),\n",
       " array([0, 1, 0, 0, 0, 0, 0, 1, 0, 1, 1, 0, 1, 0, 1, 1, 1, 1, 1, 1]),\n",
       " array([1, 1, 0, 1, 1, 0, 0, 0, 0, 0, 1, 0, 1, 0, 1, 1, 1, 0, 1, 1]),\n",
       " array([1, 1, 1, 0, 1, 1, 1, 1, 1, 0, 0, 1, 0, 0, 1, 0, 1, 0, 0, 1]),\n",
       " array([1, 1, 1, 0, 0, 1, 0, 1, 0, 1, 1, 0, 0, 1, 0, 1, 1, 0, 1, 1]),\n",
       " array([0, 1, 1, 0, 0, 1, 1, 1, 0, 1, 0, 1, 1, 0, 1, 1, 0, 0, 0, 1]),\n",
       " array([0, 1, 1, 1, 1, 1, 1, 0, 0, 1, 1, 0, 0, 0, 1, 1, 1, 0, 1, 1]),\n",
       " array([1, 0, 1, 1, 0, 0, 1, 1, 0, 1, 0, 1, 1, 0, 1, 1, 1, 0, 0, 0]),\n",
       " array([1, 1, 1, 0, 0, 1, 1, 0, 0, 0, 1, 0, 1, 0, 1, 1, 0, 1, 0, 1]),\n",
       " array([0, 1, 1, 1, 0, 0, 1, 1, 1, 0, 0, 1, 0, 1, 1, 1, 1, 0, 0, 1]),\n",
       " array([1, 1, 1, 1, 1, 0, 1, 0, 0, 1, 0, 1, 0, 0, 1, 1, 0, 1, 0, 1]),\n",
       " array([1, 0, 1, 1, 0, 0, 0, 1, 1, 0, 1, 1, 1, 0, 1, 1, 1, 0, 0, 0]),\n",
       " array([1, 1, 1, 1, 1, 1, 0, 1, 0, 0, 0, 1, 0, 1, 0, 1, 1, 0, 1, 1]),\n",
       " array([1, 1, 1, 1, 0, 0, 1, 0, 0, 1, 0, 1, 1, 0, 0, 1, 1, 0, 0, 1]),\n",
       " array([1, 1, 1, 1, 1, 1, 0, 1, 0, 0, 0, 1, 0, 1, 0, 1, 1, 0, 1, 1]),\n",
       " array([1, 0, 1, 1, 0, 0, 0, 1, 1, 1, 0, 1, 1, 0, 1, 1, 1, 1, 0, 0]),\n",
       " array([1, 1, 1, 1, 1, 1, 1, 0, 0, 1, 0, 0, 0, 0, 1, 1, 1, 0, 0, 1]),\n",
       " array([0, 1, 1, 0, 1, 0, 0, 0, 0, 1, 1, 1, 0, 0, 1, 1, 1, 1, 1, 1]),\n",
       " array([1, 1, 1, 1, 0, 1, 1, 1, 0, 1, 0, 1, 0, 0, 1, 1, 0, 1, 1, 0]),\n",
       " array([1, 1, 0, 0, 1, 1, 1, 1, 0, 0, 1, 0, 0, 1, 1, 1, 0, 0, 1, 1]),\n",
       " array([1, 0, 1, 1, 0, 0, 0, 1, 1, 1, 0, 1, 0, 0, 1, 1, 1, 0, 0, 1]),\n",
       " array([1, 0, 1, 0, 1, 1, 0, 1, 0, 0, 0, 0, 1, 1, 1, 1, 1, 0, 1, 1]),\n",
       " array([1, 1, 1, 0, 0, 1, 0, 0, 0, 0, 1, 1, 0, 0, 1, 1, 1, 0, 0, 1]),\n",
       " array([1, 1, 1, 0, 0, 1, 1, 1, 0, 0, 0, 0, 1, 0, 1, 0, 1, 1, 1, 1]),\n",
       " array([1, 1, 1, 1, 0, 0, 0, 0, 0, 1, 0, 1, 1, 0, 1, 1, 0, 0, 1, 1]),\n",
       " array([0, 0, 1, 0, 1, 1, 0, 0, 0, 1, 1, 1, 1, 0, 1, 1, 1, 1, 0, 1]),\n",
       " array([1, 0, 1, 0, 1, 1, 0, 1, 0, 1, 1, 0, 0, 1, 1, 1, 0, 1, 1, 1]),\n",
       " array([1, 0, 1, 1, 0, 1, 0, 1, 1, 1, 1, 0, 1, 0, 0, 1, 1, 0, 0, 1]),\n",
       " array([0, 1, 1, 1, 1, 1, 0, 1, 1, 1, 0, 0, 1, 1, 1, 1, 0, 0, 1, 1]),\n",
       " array([0, 0, 0, 1, 0, 1, 0, 1, 1, 0, 1, 1, 1, 0, 1, 1, 1, 1, 0, 1]),\n",
       " array([0, 1, 0, 0, 0, 0, 1, 1, 0, 0, 1, 1, 1, 0, 1, 1, 0, 1, 1, 1]),\n",
       " array([1, 1, 1, 1, 1, 1, 0, 0, 0, 1, 0, 1, 1, 0, 0, 1, 1, 0, 0, 1]),\n",
       " array([0, 1, 1, 1, 1, 1, 0, 1, 0, 1, 1, 1, 1, 0, 1, 1, 0, 0, 1, 0]),\n",
       " array([1, 1, 1, 1, 0, 0, 1, 1, 0, 1, 0, 1, 0, 0, 0, 1, 1, 0, 1, 1]),\n",
       " array([1, 0, 1, 0, 0, 1, 0, 1, 0, 0, 0, 1, 1, 0, 1, 1, 1, 0, 1, 1]),\n",
       " array([1, 1, 1, 1, 1, 1, 0, 1, 1, 0, 1, 0, 0, 0, 0, 1, 1, 1, 1, 1]),\n",
       " array([1, 1, 1, 1, 1, 0, 0, 1, 1, 1, 0, 1, 1, 0, 1, 1, 0, 0, 1, 0]),\n",
       " array([1, 1, 0, 0, 1, 0, 0, 1, 0, 0, 0, 1, 1, 0, 1, 1, 1, 0, 0, 1]),\n",
       " array([1, 1, 0, 1, 1, 0, 1, 1, 1, 1, 0, 1, 0, 0, 0, 1, 1, 0, 1, 1]),\n",
       " array([0, 1, 0, 1, 1, 0, 0, 0, 0, 1, 1, 1, 1, 0, 1, 1, 1, 0, 1, 1]),\n",
       " array([0, 1, 1, 1, 0, 1, 1, 1, 1, 1, 0, 1, 1, 0, 0, 1, 1, 0, 0, 1]),\n",
       " array([0, 1, 0, 0, 0, 1, 1, 1, 1, 0, 1, 0, 1, 0, 1, 1, 1, 0, 1, 1]),\n",
       " array([1, 1, 1, 0, 0, 1, 1, 1, 0, 1, 1, 1, 0, 0, 0, 1, 1, 1, 1, 0]),\n",
       " array([1, 0, 1, 1, 1, 1, 1, 1, 0, 1, 0, 0, 1, 0, 1, 1, 0, 0, 1, 1]),\n",
       " array([0, 1, 0, 1, 1, 1, 1, 1, 0, 1, 1, 1, 0, 0, 1, 1, 1, 1, 1, 0]),\n",
       " array([1, 1, 1, 0, 1, 0, 1, 0, 0, 0, 0, 0, 1, 0, 1, 1, 1, 1, 1, 1]),\n",
       " array([0, 1, 0, 1, 1, 1, 1, 1, 0, 0, 0, 1, 0, 1, 1, 1, 1, 1, 1, 1]),\n",
       " array([1, 0, 1, 0, 1, 1, 0, 1, 1, 1, 0, 1, 1, 0, 1, 1, 1, 0, 1, 0]),\n",
       " array([1, 1, 1, 0, 1, 1, 1, 0, 0, 0, 1, 0, 0, 0, 1, 1, 1, 0, 1, 1]),\n",
       " array([1, 1, 0, 1, 0, 0, 1, 1, 1, 0, 1, 1, 0, 0, 1, 1, 1, 0, 1, 0]),\n",
       " array([0, 1, 1, 1, 0, 0, 1, 0, 0, 1, 1, 0, 1, 0, 1, 1, 1, 0, 1, 1]),\n",
       " array([0, 1, 1, 0, 1, 1, 1, 1, 1, 0, 0, 1, 1, 0, 1, 1, 0, 1, 0, 1]),\n",
       " array([1, 1, 1, 0, 0, 1, 0, 1, 1, 0, 1, 0, 1, 0, 1, 1, 0, 0, 0, 1]),\n",
       " array([0, 1, 0, 1, 0, 1, 1, 0, 0, 1, 1, 1, 0, 0, 1, 1, 1, 1, 1, 1]),\n",
       " array([1, 1, 1, 1, 1, 0, 1, 0, 0, 1, 0, 0, 0, 1, 1, 1, 1, 0, 1, 1]),\n",
       " array([1, 1, 1, 1, 0, 1, 0, 1, 1, 1, 0, 1, 1, 0, 1, 0, 0, 1, 1, 1]),\n",
       " array([0, 1, 1, 1, 0, 1, 0, 0, 1, 1, 1, 1, 0, 0, 1, 1, 1, 1, 1, 1]),\n",
       " array([1, 1, 0, 0, 1, 1, 0, 1, 1, 1, 1, 1, 0, 0, 1, 1, 0, 0, 0, 1]),\n",
       " array([1, 0, 1, 1, 1, 1, 0, 1, 0, 1, 0, 1, 0, 0, 1, 1, 1, 1, 0, 1]),\n",
       " array([1, 0, 0, 1, 1, 0, 1, 1, 0, 1, 0, 1, 0, 0, 1, 1, 1, 1, 1, 1]),\n",
       " array([0, 1, 1, 1, 1, 0, 1, 1, 0, 0, 0, 1, 0, 1, 1, 1, 1, 1, 1, 1]),\n",
       " array([1, 1, 1, 1, 1, 0, 1, 1, 1, 0, 0, 0, 1, 0, 1, 1, 0, 1, 0, 1]),\n",
       " array([0, 1, 1, 0, 1, 0, 1, 1, 1, 1, 1, 0, 0, 0, 1, 1, 1, 0, 1, 1]),\n",
       " array([1, 1, 1, 1, 1, 1, 0, 1, 0, 1, 1, 1, 0, 0, 1, 0, 0, 1, 1, 1]),\n",
       " array([1, 1, 1, 1, 1, 0, 0, 1, 0, 0, 1, 0, 1, 0, 1, 1, 0, 1, 0, 1]),\n",
       " array([0, 1, 1, 1, 1, 1, 0, 1, 1, 1, 0, 1, 1, 0, 0, 1, 1, 1, 1, 1]),\n",
       " array([1, 0, 1, 0, 1, 1, 0, 1, 0, 0, 0, 1, 1, 0, 1, 1, 1, 1, 0, 1]),\n",
       " array([1, 1, 0, 1, 0, 1, 1, 1, 0, 1, 1, 0, 0, 1, 1, 1, 0, 0, 1, 1]),\n",
       " array([1, 0, 0, 1, 1, 1, 0, 1, 0, 1, 1, 0, 1, 0, 1, 1, 1, 0, 0, 1]),\n",
       " array([1, 0, 1, 1, 1, 0, 0, 1, 1, 1, 1, 0, 0, 0, 1, 1, 1, 0, 1, 1]),\n",
       " array([1, 0, 1, 1, 0, 1, 1, 1, 0, 0, 1, 0, 0, 0, 1, 1, 1, 1, 1, 1]),\n",
       " array([1, 1, 0, 0, 1, 1, 0, 1, 0, 0, 1, 1, 0, 0, 1, 1, 1, 0, 0, 1]),\n",
       " array([1, 1, 1, 1, 0, 0, 1, 0, 1, 0, 1, 0, 0, 0, 1, 1, 1, 1, 1, 1]),\n",
       " array([1, 1, 0, 1, 1, 1, 1, 0, 0, 1, 1, 0, 0, 0, 1, 1, 1, 0, 1, 1]),\n",
       " array([1, 1, 1, 1, 1, 0, 0, 1, 0, 1, 0, 0, 0, 1, 1, 1, 1, 1, 0, 1]),\n",
       " array([1, 1, 1, 1, 1, 0, 1, 1, 1, 1, 0, 0, 0, 1, 1, 1, 0, 0, 1, 1]),\n",
       " array([1, 1, 0, 0, 0, 0, 0, 1, 1, 0, 0, 1, 1, 0, 1, 1, 1, 1, 0, 1]),\n",
       " array([1, 1, 1, 1, 1, 1, 1, 0, 1, 1, 0, 0, 1, 0, 1, 1, 0, 1, 1, 1]),\n",
       " array([1, 1, 1, 1, 1, 1, 1, 1, 0, 1, 0, 1, 0, 0, 1, 1, 1, 0, 1, 0]),\n",
       " array([0, 1, 1, 1, 0, 0, 1, 1, 1, 1, 1, 0, 1, 0, 1, 1, 0, 1, 1, 1]),\n",
       " array([1, 0, 1, 0, 1, 1, 1, 1, 1, 0, 0, 1, 0, 0, 1, 1, 1, 1, 1, 1]),\n",
       " array([1, 1, 1, 1, 1, 1, 1, 1, 0, 0, 1, 0, 0, 0, 1, 1, 0, 1, 1, 1]),\n",
       " array([1, 1, 1, 1, 0, 1, 0, 1, 0, 1, 0, 1, 1, 0, 1, 1, 1, 0, 1, 0]),\n",
       " array([1, 1, 1, 1, 0, 0, 0, 1, 0, 1, 1, 0, 0, 0, 1, 1, 1, 0, 1, 1]),\n",
       " array([1, 1, 1, 0, 1, 1, 0, 0, 1, 1, 0, 1, 1, 0, 1, 1, 0, 1, 1, 1]),\n",
       " array([1, 1, 1, 1, 1, 1, 1, 0, 1, 1, 0, 0, 1, 0, 1, 1, 0, 1, 1, 1]),\n",
       " array([1, 1, 1, 1, 1, 1, 0, 1, 0, 0, 0, 1, 0, 0, 1, 1, 1, 1, 0, 1]),\n",
       " array([1, 1, 1, 0, 0, 1, 1, 1, 0, 0, 0, 1, 1, 0, 1, 1, 0, 1, 1, 1]),\n",
       " array([1, 1, 0, 0, 0, 0, 1, 1, 1, 1, 1, 0, 0, 0, 1, 1, 1, 1, 1, 1]),\n",
       " array([1, 1, 0, 1, 1, 0, 1, 1, 1, 0, 0, 0, 1, 0, 1, 1, 1, 1, 1, 1]),\n",
       " array([0, 1, 1, 1, 1, 0, 0, 1, 1, 1, 0, 1, 1, 0, 1, 1, 1, 0, 1, 1]),\n",
       " array([1, 0, 1, 0, 1, 1, 0, 1, 0, 1, 1, 0, 1, 0, 1, 1, 1, 1, 0, 1]),\n",
       " array([1, 0, 1, 1, 0, 1, 1, 1, 0, 1, 0, 1, 1, 0, 1, 1, 1, 0, 0, 1]),\n",
       " array([1, 0, 1, 1, 1, 1, 1, 1, 1, 1, 0, 1, 0, 0, 1, 1, 1, 0, 1, 1]),\n",
       " array([1, 1, 1, 1, 1, 1, 0, 1, 0, 1, 1, 0, 0, 0, 1, 1, 1, 0, 1, 1]),\n",
       " array([0, 1, 1, 1, 0, 0, 0, 1, 0, 1, 1, 1, 1, 0, 1, 1, 1, 0, 1, 1]),\n",
       " array([1, 1, 1, 1, 1, 1, 1, 1, 0, 1, 0, 1, 0, 0, 1, 1, 1, 1, 1, 1])]"
      ]
     },
     "execution_count": 106,
     "metadata": {},
     "output_type": "execute_result"
    }
   ],
   "source": [
    "def elite(pop, n_largest):\n",
    "    elitism = []\n",
    "    bound = solutions / n_largest\n",
    "    checked_sols = assign_weights(mutated_results, pop_0, wgt_limit)\n",
    "    top_n = np.argsort(checked_sols)[-100:]\n",
    "    for i in top_n:\n",
    "        elitism.append(pop[i])\n",
    "\n",
    "    print(len(elitism))\n",
    "    return elitism\n",
    "\n",
    "elite(mutated_results, 10)"
   ]
  }
 ],
 "metadata": {
  "kernelspec": {
   "display_name": "datasci",
   "language": "python",
   "name": "python3"
  },
  "language_info": {
   "codemirror_mode": {
    "name": "ipython",
    "version": 3
   },
   "file_extension": ".py",
   "mimetype": "text/x-python",
   "name": "python",
   "nbconvert_exporter": "python",
   "pygments_lexer": "ipython3",
   "version": "3.10.13"
  }
 },
 "nbformat": 4,
 "nbformat_minor": 2
}
