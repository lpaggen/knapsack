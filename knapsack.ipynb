{
 "cells": [
  {
   "cell_type": "markdown",
   "metadata": {},
   "source": [
    "We have used a few resources to help us make this algorithm,\n",
    "\n",
    "https://arpitbhayani.me/blogs/genetic-knapsack/\n",
    "\n",
    "https://medium.com/koderunners/genetic-algorithm-part-3-knapsack-problem-b59035ddd1d6\n",
    "\n",
    "https://stackoverflow.com/questions/10324015/fitness-proportionate-selection-roulette-wheel-selection-in-python\n",
    "\n",
    "You will find that none of the code has been copied from anywhere, these resources were used to help us only."
   ]
  },
  {
   "cell_type": "code",
   "execution_count": 25,
   "metadata": {},
   "outputs": [],
   "source": [
    "from random import choice, randrange, random\n",
    "import numpy as np"
   ]
  },
  {
   "cell_type": "code",
   "execution_count": 74,
   "metadata": {},
   "outputs": [],
   "source": [
    "n = 10 # number of items\n",
    "max_val = 4 # modular param for item val\n",
    "max_wgt = 4 # param for item weight\n",
    "wgt_limit = 20 # set limit for the sack (weight limit)\n",
    "solutions_count = 500"
   ]
  },
  {
   "cell_type": "code",
   "execution_count": 75,
   "metadata": {},
   "outputs": [],
   "source": [
    "items = {} # dict of items, each has weight and value (dict of lists)\n",
    "\n",
    "val = [i for i in range(max_wgt + 1)]\n",
    "wgt = [i for i in range(max_val + 1)]\n",
    "\n",
    "def construct_pop(n, max_val, max_wgt):\n",
    "    m = [i for i in range(max_val)] # list of possible values\n",
    "    p = [i for i in range(max_wgt)] # list of possible weights\n",
    "\n",
    "    item_val = [randrange(1, len(m) + 1) for i in range(n)] # random list of val for n items\n",
    "    item_wgt = [randrange(1, len(p) + 1) for i in range(n)] # random list of weights ..\n",
    "\n",
    "    item_vw = [(val, wgt) for val, wgt in zip(item_val, item_wgt)] # make tuple (x, y) of val and weight\n",
    "\n",
    "    for idx, i in enumerate(item_vw): # get index and populate dict 'items'\n",
    "        items[idx] = i # item i = (val, wgt)\n",
    "\n",
    "    print(\"List of items (item number : (value, weight))\")\n",
    "    print(f\"Number of items: {n}\")\n",
    "    print(f\"Maximum weight: {max_wgt}\")\n",
    "    print(f\"Maximum value: {max_val}\")\n",
    "    print(items) # check if everything went as intended (spoilers it did)\n",
    "\n",
    "    return(items)"
   ]
  },
  {
   "cell_type": "code",
   "execution_count": 76,
   "metadata": {},
   "outputs": [
    {
     "name": "stdout",
     "output_type": "stream",
     "text": [
      "List of items (item number : (value, weight))\n",
      "Number of items: 10\n",
      "Maximum weight: 4\n",
      "Maximum value: 4\n",
      "{0: (4, 3), 1: (3, 4), 2: (4, 4), 3: (1, 1), 4: (4, 3), 5: (4, 1), 6: (1, 4), 7: (1, 4), 8: (2, 3), 9: (1, 2)}\n"
     ]
    }
   ],
   "source": [
    "pop_0 = construct_pop(n, max_val = max_val, max_wgt = max_wgt)"
   ]
  },
  {
   "cell_type": "code",
   "execution_count": 77,
   "metadata": {},
   "outputs": [],
   "source": [
    "def bit_strings(sol, pop_size):\n",
    "    bit_string_arr = []\n",
    "    for i in range(sol):\n",
    "        bit_string = [randrange(0, 2) for i in range(pop_size)] # 0 or 1, randomly, length is number of items\n",
    "        bit_string_arr.append(bit_string)\n",
    "    bit_string_arr = np.array(bit_string_arr)\n",
    "\n",
    "    return bit_string_arr\n",
    "\n",
    "solutions_initial = bit_strings(solutions_count, n)"
   ]
  },
  {
   "cell_type": "code",
   "execution_count": 95,
   "metadata": {},
   "outputs": [],
   "source": [
    "def set_score(bit_strings, items, weight_limit):\n",
    "    scores = []\n",
    "    item_id = [item for item in items.keys()]\n",
    "    item_val = [item[0] for item in items.values()]\n",
    "    item_wgt = [item[1] for item in items.values()]\n",
    "\n",
    "    for solution in bit_strings:\n",
    "        total_val = 0\n",
    "        total_wgt = 0\n",
    "        for idx, bit in enumerate(solution):\n",
    "            if bit == 1:\n",
    "                total_val += item_val[idx]\n",
    "                total_wgt += item_wgt[idx]\n",
    "        if total_wgt > weight_limit:\n",
    "            total_val = 0\n",
    "\n",
    "        scores.append(total_val)\n",
    "\n",
    "    return scores\n",
    "\n",
    "scores = set_score(solutions_initial, pop_0, wgt_limit)"
   ]
  },
  {
   "cell_type": "code",
   "execution_count": 79,
   "metadata": {},
   "outputs": [],
   "source": [
    "def regressed_safeguard(item_list, prev_solutions, post_solutions):\n",
    "    post_solutions_copy = post_solutions.copy()\n",
    "    prev_solutions_copy = prev_solutions.copy()\n",
    "\n",
    "    prev_scores = set_score(prev_solutions_copy, item_list, wgt_limit)\n",
    "    max_score_prev = max(prev_scores)\n",
    "    prev_best_sol = prev_solutions[np.argmax(prev_scores)].copy()\n",
    "\n",
    "    post_scores = set_score(post_solutions_copy, item_list, wgt_limit)\n",
    "    max_score_post = max(post_scores)\n",
    "\n",
    "    if max_score_post < max_score_prev:\n",
    "        worst_index_post = np.argmin(post_scores)\n",
    "        post_solutions_copy[worst_index_post] = prev_best_sol.copy()\n",
    "\n",
    "    else:\n",
    "        pass\n",
    "\n",
    "    return post_solutions_copy"
   ]
  },
  {
   "cell_type": "code",
   "execution_count": 80,
   "metadata": {},
   "outputs": [],
   "source": [
    "# https://stackoverflow.com/questions/10324015/fitness-proportionate-selection-roulette-wheel-selection-in-python\n",
    "# the above link is what helped us implement the roulette wheel. how it works is simple, we generate some number between 0 and 1,\n",
    "# then we iterate over all probabilities, add them until their sum exceeds the random number. This is the selected number.\n",
    "# the fact we have also set bad solutions (weight exceeded) to 0 means they will NEVER be selected here, which is good\n",
    "\n",
    "def roulette_prob_wheel(pop, solution_scores):\n",
    "    total_score = np.sum(solution_scores) # sum of all the scores (used for probability wheel :) )\n",
    "    probabilities = solution_scores / total_score # divides each score by the total, gets probability (proportion)\n",
    "\n",
    "    survival = []\n",
    "    for i in range(len(pop)):\n",
    "        rand = random()\n",
    "        prob_sum = 0 # we set this equal to 0, add until we exceed \"rand\"\n",
    "    \n",
    "        for idx, prob in enumerate(probabilities):\n",
    "            prob_sum += prob # add prob to sum until exceed\n",
    "            if prob_sum > rand:\n",
    "                survival.append(pop[idx]) # appends good item to survivor list\n",
    "                break\n",
    "\n",
    "    return survival # returns 500, == original solution size, on the right track\n",
    "\n",
    "selection = roulette_prob_wheel(solutions_initial, scores)"
   ]
  },
  {
   "cell_type": "code",
   "execution_count": 81,
   "metadata": {},
   "outputs": [],
   "source": [
    "def crossover(item_list, sol_size, pop, cross_rate): # we will set a rate for crossovers, this way they do not happen every time.\n",
    "    crossover_results = []\n",
    "    crossover_results_safe = None\n",
    "    parents = [(pop[i], pop[i + 1]) for i in range(0, len(pop), 2)] # gets parent pairs, done \"2 by 2\" -> 250 len\n",
    "    cross_point = randrange(1, sol_size) # for each bit string, different crossover index (never 0 or 20)\n",
    "    for idx, parent in enumerate(parents):\n",
    "        rand = random() # between 0 and 1n\n",
    "        child_1 = parents[idx][0]\n",
    "        child_2 = parents[idx][1]\n",
    "        if rand < cross_rate: # crossover only happens if below defined rate (args)\n",
    "            child_1 = np.hstack((parent[0][:cross_point], parent[1][cross_point:])) # np.hstack just concats 2 vectors of 1 row\n",
    "            child_2 = np.hstack((parent[1][:cross_point], parent[0][cross_point:]))\n",
    "            crossover_results.append(child_1)\n",
    "            crossover_results.append(child_2)\n",
    "        else:\n",
    "            crossover_results.append(child_1)\n",
    "            crossover_results.append(child_2)\n",
    "            \n",
    "    crossover_results_safe = regressed_safeguard(item_list, pop, crossover_results)\n",
    "\n",
    "    # crossover_results = np.concatenate(crossover_results)\n",
    "    return crossover_results_safe\n",
    "\n",
    "cross_results = crossover(pop_0, 20, selection, 0.5)"
   ]
  },
  {
   "cell_type": "code",
   "execution_count": 82,
   "metadata": {},
   "outputs": [
    {
     "name": "stdout",
     "output_type": "stream",
     "text": [
      "22\n",
      "[1 1 1 0 1 0 1 0 1 1]\n"
     ]
    }
   ],
   "source": [
    "def mutate(item_list, sol_size, pop, mutate_rate):\n",
    "    mutated_results = []\n",
    "    mutated_results_safe = None\n",
    "    for bit_string in pop:\n",
    "        mutated_bit_string = bit_string.copy()  # Make a copy to avoid modifying the original\n",
    "        for idxx, bit in enumerate(mutated_bit_string):\n",
    "            rand = random()\n",
    "            if rand < mutate_rate:\n",
    "                mutated_bit_string[idxx] = abs(mutated_bit_string[idxx] - 1)\n",
    "        mutated_results.append(mutated_bit_string)\n",
    "\n",
    "    mutated_results_safe = regressed_safeguard(item_list, pop, mutated_results)\n",
    "\n",
    "    return mutated_results_safe\n",
    "\n",
    "mut = mutate(pop_0, solutions_count, cross_results, 0.1)\n",
    "\n",
    "mut_score = set_score(mut, pop_0, wgt_limit)\n",
    "\n",
    "print(max(mut_score))\n",
    "\n",
    "print(mut[0])"
   ]
  },
  {
   "cell_type": "code",
   "execution_count": 83,
   "metadata": {},
   "outputs": [
    {
     "name": "stdout",
     "output_type": "stream",
     "text": [
      "140556046237744\n",
      "140556046612688\n"
     ]
    }
   ],
   "source": [
    "def test(prev, post):\n",
    "    print(id(prev[0]))\n",
    "    print(id(post[0]))\n",
    "    \n",
    "test(cross_results, mut)"
   ]
  },
  {
   "cell_type": "code",
   "execution_count": 130,
   "metadata": {},
   "outputs": [
    {
     "name": "stdout",
     "output_type": "stream",
     "text": [
      "List of items (item number : (value, weight))\n",
      "Number of items: 10\n",
      "Maximum weight: 4\n",
      "Maximum value: 4\n",
      "{0: (3, 2), 1: (1, 1), 2: (3, 4), 3: (3, 2), 4: (1, 3), 5: (4, 4), 6: (1, 3), 7: (2, 4), 8: (2, 4), 9: (4, 1)}\n",
      "\n",
      "Best Solution: [1 0 0 1 1 1 0 0 0 1]\n",
      "Selected Items:\n",
      "Item (3, 2): Value 3, Weight 2\n",
      "Item (3, 2): Value 3, Weight 2\n",
      "Item (1, 3): Value 1, Weight 3\n",
      "Item (4, 4): Value 4, Weight 4\n",
      "Item (4, 1): Value 4, Weight 1\n",
      "total value of solution : 15\n",
      "total weight of solution : 12\n"
     ]
    }
   ],
   "source": [
    "def genetic_algorithm(iterations, pop_size, cross_rate, mutate_rate, verbose=True):\n",
    "    best_solution_idx = 0\n",
    "    current_max_score = 0\n",
    "    solutions_bit = bit_strings(pop_size, n)\n",
    "    items = construct_pop(n, max_val, max_wgt)\n",
    "    best_solution = None\n",
    "    selected_items = None\n",
    "\n",
    "    for i in range(iterations):\n",
    "        iter = 0\n",
    "        score_solutions = set_score(solutions_bit, items, wgt_limit)\n",
    "        selected_solutions = roulette_prob_wheel(solutions_bit, score_solutions)\n",
    "        if iter > 0:\n",
    "            selected_solutions = regressed_safeguard(items, solutions_bit, selected_solutions)\n",
    "        crossover_solutions = crossover(items, pop_size, selected_solutions, cross_rate)\n",
    "        mutated_solutions = mutate(items, pop_size, crossover_solutions, mutate_rate)\n",
    "\n",
    "        score_generation = set_score(mutated_solutions, items, wgt_limit)\n",
    "        new_max_score = max(score_generation)\n",
    "        max_score_idx = np.argmax(new_max_score)\n",
    "        optim_solution = mutated_solutions[max_score_idx]\n",
    "\n",
    "        if verbose:\n",
    "            print(f\"Iteration {i + 1}: current best solution : {optim_solution}, score : {new_max_score}\")\n",
    "\n",
    "        if new_max_score > current_max_score:\n",
    "            current_max_score = new_max_score\n",
    "            best_solution_idx = max_score_idx\n",
    "            best_solution = optim_solution\n",
    "            selected_items = [item for j, item in enumerate(items.values()) if best_solution[j] == 1]\n",
    "\n",
    "        solutions_bit = mutated_solutions\n",
    "        \n",
    "        iter += 1\n",
    "\n",
    "    return best_solution, current_max_score, selected_items\n",
    "\n",
    "best_solution, best_score, selected_items = genetic_algorithm(100, 10, 0.4, 0.1, verbose = False)\n",
    "print(f\"\\nBest Solution: {best_solution}\")\n",
    "weights = [item[1] for item in selected_items]\n",
    "values = [item[0] for item in selected_items]\n",
    "values_sum = np.sum(values)\n",
    "weights_sum = np.sum(weights)\n",
    "print(\"Selected Items:\")\n",
    "for item in selected_items:\n",
    "    print(f\"Item {item}: Value {item[0]}, Weight {item[1]}\")\n",
    "\n",
    "print(f\"total value of solution : {values_sum}\")\n",
    "print(f\"total weight of solution : {weights_sum}\")\n"
   ]
  }
 ],
 "metadata": {
  "kernelspec": {
   "display_name": "datasci",
   "language": "python",
   "name": "python3"
  },
  "language_info": {
   "codemirror_mode": {
    "name": "ipython",
    "version": 3
   },
   "file_extension": ".py",
   "mimetype": "text/x-python",
   "name": "python",
   "nbconvert_exporter": "python",
   "pygments_lexer": "ipython3",
   "version": "3.10.13"
  }
 },
 "nbformat": 4,
 "nbformat_minor": 2
}
